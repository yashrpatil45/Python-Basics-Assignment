{
  "nbformat": 4,
  "nbformat_minor": 0,
  "metadata": {
    "colab": {
      "provenance": []
    },
    "kernelspec": {
      "name": "python3",
      "display_name": "Python 3"
    },
    "language_info": {
      "name": "python"
    }
  },
  "cells": [
    {
      "cell_type": "code",
      "execution_count": 1,
      "metadata": {
        "colab": {
          "base_uri": "https://localhost:8080/"
        },
        "id": "OKsKASirBU7Y",
        "outputId": "312d3339-dfcc-4dde-b4d6-45a50bb80a05"
      },
      "outputs": [
        {
          "output_type": "stream",
          "name": "stdout",
          "text": [
            "Hello, World!\n"
          ]
        }
      ],
      "source": [
        "#Write a Python program to print \"Hello, World!\n",
        "print(\"Hello, World!\")"
      ]
    },
    {
      "cell_type": "code",
      "source": [
        "#0 Write a Python program that displays your name and age\n",
        "Name=\"Yash\"\n",
        "Age=22\n",
        "print(f\"My name is {Name} and my age is {Age} \")\n"
      ],
      "metadata": {
        "colab": {
          "base_uri": "https://localhost:8080/"
        },
        "id": "SSyk0MouRZik",
        "outputId": "a6a715bc-a0a2-4e91-ca2f-3753d27a8b7e"
      },
      "execution_count": 2,
      "outputs": [
        {
          "output_type": "stream",
          "name": "stdout",
          "text": [
            "My name is Yash and my age is 22 \n"
          ]
        }
      ]
    },
    {
      "cell_type": "code",
      "source": [
        "#Write code to print all the pre-defined keywords in Python using the keyword library0\n",
        "import keyword\n",
        "\n",
        "print(\"Python Keywords:\")\n",
        "for kw in keyword.kwlist:\n",
        "    print(kw)"
      ],
      "metadata": {
        "colab": {
          "base_uri": "https://localhost:8080/"
        },
        "id": "kcgFauc_SFuU",
        "outputId": "430fd308-c286-4fad-8a8c-cf700596a4bf"
      },
      "execution_count": 3,
      "outputs": [
        {
          "output_type": "stream",
          "name": "stdout",
          "text": [
            "Python Keywords:\n",
            "False\n",
            "None\n",
            "True\n",
            "and\n",
            "as\n",
            "assert\n",
            "async\n",
            "await\n",
            "break\n",
            "class\n",
            "continue\n",
            "def\n",
            "del\n",
            "elif\n",
            "else\n",
            "except\n",
            "finally\n",
            "for\n",
            "from\n",
            "global\n",
            "if\n",
            "import\n",
            "in\n",
            "is\n",
            "lambda\n",
            "nonlocal\n",
            "not\n",
            "or\n",
            "pass\n",
            "raise\n",
            "return\n",
            "try\n",
            "while\n",
            "with\n",
            "yield\n"
          ]
        }
      ]
    },
    {
      "cell_type": "code",
      "source": [
        "#Write a program that checks if a given word is a Python keyword0\n",
        "\n",
        "import keyword\n",
        "\n",
        "word = input(\"Enter a word: \")\n",
        "\n",
        "if word in keyword.kwlist:\n",
        "    print(f\"'{word}' is a Python keyword.\")\n",
        "else:\n",
        "    print(f\"'{word}' is NOT a Python keyword.\")"
      ],
      "metadata": {
        "colab": {
          "base_uri": "https://localhost:8080/"
        },
        "id": "unXG1SIwSroK",
        "outputId": "8544da18-b00e-48bc-b1b0-9d89f1bd2580"
      },
      "execution_count": 4,
      "outputs": [
        {
          "output_type": "stream",
          "name": "stdout",
          "text": [
            "Enter a word: pass\n",
            "'pass' is a Python keyword.\n"
          ]
        }
      ]
    },
    {
      "cell_type": "code",
      "source": [
        "#Create a list and tuple in Python, and demonstrate how attempting to change an element works differently for each\n",
        "\n",
        "\n",
        "my_list = [1, 2, 3, 4, 5]\n",
        "my_tuple = (10, 20, 30, 40, 50)\n",
        "\n",
        "print(my_list)\n",
        "my_list[2] = 99\n",
        "print(my_list)\n",
        "\n",
        "print(my_tuple)\n",
        "# my_tuple[1] = 22  # This will cause an error and stop the program\n",
        "\n",
        "print(my_tuple)\n",
        "\n",
        "# my_tuple.append(60) # This will cause an error and stop the program\n",
        "# my_tuple.sort()  # This will cause an error and stop the program\n",
        "\n",
        "new_tuple = my_tuple + (60,)\n",
        "print(new_tuple)\n",
        "\n",
        "slice_tuple = my_tuple[1:3]\n",
        "print(slice_tuple)"
      ],
      "metadata": {
        "colab": {
          "base_uri": "https://localhost:8080/"
        },
        "id": "qfEVNqV3TH3t",
        "outputId": "8c22657f-3bc3-443e-d0a7-e1d03e091673"
      },
      "execution_count": 8,
      "outputs": [
        {
          "output_type": "stream",
          "name": "stdout",
          "text": [
            "[1, 2, 3, 4, 5]\n",
            "[1, 2, 99, 4, 5]\n",
            "(10, 20, 30, 40, 50)\n",
            "(10, 20, 30, 40, 50)\n",
            "(10, 20, 30, 40, 50, 60)\n",
            "(20, 30)\n"
          ]
        }
      ]
    },
    {
      "cell_type": "code",
      "source": [
        "def modify_arguments(int_arg, list_arg):\n",
        "    int_arg += 1\n",
        "    list_arg.append(4)\n",
        "\n",
        "x = 5\n",
        "my_list = [1, 2, 3]\n",
        "\n",
        "print(\"Before:\", x, my_list)\n",
        "\n",
        "modify_arguments(x, my_list)\n",
        "\n",
        "print(\"After:\", x, my_list)"
      ],
      "metadata": {
        "colab": {
          "base_uri": "https://localhost:8080/"
        },
        "id": "pmBBly16UQlt",
        "outputId": "e523cc04-d690-41f2-8842-f0bd61f3bd67"
      },
      "execution_count": 9,
      "outputs": [
        {
          "output_type": "stream",
          "name": "stdout",
          "text": [
            "Before: 5 [1, 2, 3]\n",
            "After: 5 [1, 2, 3, 4]\n"
          ]
        }
      ]
    },
    {
      "cell_type": "code",
      "source": [
        "#Write a program to demonstrate the use of logical operators\n",
        "x = 5\n",
        "y = 10\n",
        "\n",
        "print(x > 0 and y < 20)  # True\n",
        "print(x < 0 or y < 5)   # False\n",
        "print(not x > 0)      # False"
      ],
      "metadata": {
        "colab": {
          "base_uri": "https://localhost:8080/"
        },
        "id": "dFMlS_EXU0e0",
        "outputId": "460d2004-321a-4721-8119-aebdf4124a2b"
      },
      "execution_count": 10,
      "outputs": [
        {
          "output_type": "stream",
          "name": "stdout",
          "text": [
            "True\n",
            "False\n",
            "False\n"
          ]
        }
      ]
    },
    {
      "cell_type": "code",
      "source": [
        "# Write a Python program to convert user input from string to integer, float, and boolean types\n",
        "\n",
        "\n",
        "user_input = input(\"Enter a value (integer, float, or 'True'/'False' - BE CAREFUL!): \")\n",
        "\n",
        "if user_input.isdigit():  # Check if it's all digits (doesn't handle negatives or decimals well)\n",
        "    int_value = int(user_input)\n",
        "    print(\"Integer:\", int_value)\n",
        "elif \".\" in user_input and user_input.replace(\".\", \"\", 1).isdigit(): # Very basic float check\n",
        "    float_value = float(user_input)\n",
        "    print(\"Float:\", float_value)\n",
        "elif user_input.lower() == \"true\":\n",
        "    bool_value = True\n",
        "    print(\"Boolean:\", bool_value)\n",
        "elif user_input.lower() == \"false\":\n",
        "    bool_value = False\n",
        "    print(\"Boolean:\", bool_value)\n",
        "else:\n",
        "    print(\"Invalid input (likely).\") # We don't even know for sure!\n"
      ],
      "metadata": {
        "colab": {
          "base_uri": "https://localhost:8080/"
        },
        "id": "yykX0DsGVQdE",
        "outputId": "13e86df4-0624-4938-8b52-537ebdd1c733"
      },
      "execution_count": 12,
      "outputs": [
        {
          "output_type": "stream",
          "name": "stdout",
          "text": [
            "Enter a value (integer, float, or 'True'/'False' - BE CAREFUL!): 6\n",
            "Integer: 6\n"
          ]
        }
      ]
    },
    {
      "cell_type": "code",
      "source": [
        "#Write code to demonstrate type casting with list elements\n",
        "\n",
        "my_list = [\"1\", \"2\", \"3.14\", \"True\", \"False\"]\n",
        "\n",
        "int_list = []\n",
        "for item in my_list:\n",
        "    try:\n",
        "        int_list.append(int(item))\n",
        "    except ValueError:\n",
        "        pass  # Ignore errors for simplicity in this basic example\n",
        "\n",
        "print(\"Integer list:\", int_list)\n",
        "\n",
        "float_list = []\n",
        "for item in my_list:\n",
        "    try:\n",
        "        float_list.append(float(item))\n",
        "    except ValueError:\n",
        "        pass  # Ignore errors\n",
        "\n",
        "print(\"Float list:\", float_list)\n",
        "\n",
        "bool_list = []\n",
        "for item in my_list:\n",
        "    bool_list.append(bool(item))\n",
        "\n",
        "print(\"Boolean list:\", bool_list)"
      ],
      "metadata": {
        "colab": {
          "base_uri": "https://localhost:8080/"
        },
        "id": "tEoqXWgvWDJF",
        "outputId": "7c0a7d82-e422-40f0-b354-b375e0bd0534"
      },
      "execution_count": 13,
      "outputs": [
        {
          "output_type": "stream",
          "name": "stdout",
          "text": [
            "Integer list: [1, 2]\n",
            "Float list: [1.0, 2.0, 3.14]\n",
            "Boolean list: [True, True, True, True, True]\n"
          ]
        }
      ]
    },
    {
      "cell_type": "code",
      "source": [
        "#Write a program that checks if a number is positive, negative, or zero0\n",
        "\n",
        "number = float(input(\"Enter a number: \"))\n",
        "\n",
        "if number > 0:\n",
        "    print(\"Positive\")\n",
        "elif number < 0:\n",
        "    print(\"Negative\")\n",
        "else:\n",
        "    print(\"Zero\")"
      ],
      "metadata": {
        "colab": {
          "base_uri": "https://localhost:8080/"
        },
        "id": "JswmIwOrWqcW",
        "outputId": "5fb9fb66-32c7-4b32-90fa-ba4139cedf52"
      },
      "execution_count": 14,
      "outputs": [
        {
          "output_type": "stream",
          "name": "stdout",
          "text": [
            "Enter a number: -9\n",
            "Negative\n"
          ]
        }
      ]
    },
    {
      "cell_type": "code",
      "source": [
        "#Write a for loop to print numbers from 1 to 100\n",
        "\n",
        "for i in range(1, 101):\n",
        "    print(i, end=\" \")\n",
        "print()"
      ],
      "metadata": {
        "colab": {
          "base_uri": "https://localhost:8080/"
        },
        "id": "XJBUpt9WXDhr",
        "outputId": "5eeaa8e5-fcf8-4039-d942-a5d09613a14f"
      },
      "execution_count": 15,
      "outputs": [
        {
          "output_type": "stream",
          "name": "stdout",
          "text": [
            "1 2 3 4 5 6 7 8 9 10 11 12 13 14 15 16 17 18 19 20 21 22 23 24 25 26 27 28 29 30 31 32 33 34 35 36 37 38 39 40 41 42 43 44 45 46 47 48 49 50 51 52 53 54 55 56 57 58 59 60 61 62 63 64 65 66 67 68 69 70 71 72 73 74 75 76 77 78 79 80 81 82 83 84 85 86 87 88 89 90 91 92 93 94 95 96 97 98 99 100 \n"
          ]
        }
      ]
    },
    {
      "cell_type": "code",
      "source": [
        "#Write a Python program to find the sum of all even numbers between 1 and 500\n",
        "sum_evens = 0\n",
        "for i in range(2, 51, 2):\n",
        "    sum_evens += i\n",
        "print(sum_evens)"
      ],
      "metadata": {
        "colab": {
          "base_uri": "https://localhost:8080/"
        },
        "id": "GHPhDqIpX8N9",
        "outputId": "bc19974c-b27c-4728-ca00-affc825c87e3"
      },
      "execution_count": 17,
      "outputs": [
        {
          "output_type": "stream",
          "name": "stdout",
          "text": [
            "650\n"
          ]
        }
      ]
    },
    {
      "cell_type": "code",
      "source": [
        "#Write a program to reverse a string using a while loop\n",
        "\n",
        "string = input(\"Enter a string: \")\n",
        "reversed_string = \"\"\n",
        "index = len(string) - 1\n",
        "while index >= 0:\n",
        "    reversed_string += string[index]\n",
        "    index -= 1\n",
        "print(reversed_string)"
      ],
      "metadata": {
        "colab": {
          "base_uri": "https://localhost:8080/"
        },
        "id": "3OhImOzKYVUf",
        "outputId": "d514d309-38c8-4a43-e88a-74a27bd59f81"
      },
      "execution_count": 18,
      "outputs": [
        {
          "output_type": "stream",
          "name": "stdout",
          "text": [
            "Enter a string: Hello PWSkills\n",
            "sllikSWP olleH\n"
          ]
        }
      ]
    },
    {
      "cell_type": "code",
      "source": [
        "#Write a Python program to calculate the factorial of a number provided by the user using a while loop.\n",
        "\n",
        "num = int(input(\"Enter a number: \"))\n",
        "\n",
        "if num < 0:\n",
        "    print(\"Invalid\")\n",
        "elif num == 0:\n",
        "    print(1)\n",
        "else:\n",
        "    fact = 1\n",
        "    while num > 0:\n",
        "        fact *= num\n",
        "        num -= 1\n",
        "    print(fact)"
      ],
      "metadata": {
        "id": "A2kWvFoXYex5"
      },
      "execution_count": null,
      "outputs": []
    }
  ]
}